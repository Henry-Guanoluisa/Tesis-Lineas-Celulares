{
 "cells": [
  {
   "cell_type": "code",
   "execution_count": 1,
   "id": "dcea2476-5f91-41a4-96ec-365311ee9c61",
   "metadata": {},
   "outputs": [
    {
     "name": "stdout",
     "output_type": "stream",
     "text": [
      "CVCL_B0T9\n",
      "{'accession': 'CVCL_B0T9', 'sinonimos': ['Z48-5MG-70']}\n",
      "CVCL_B0T8\n",
      "{'accession': 'CVCL_B0T8', 'sinonimos': ['Z48-5MG-70', 'Z48-5MG-63']}\n",
      "CVCL_E548\n",
      "{'accession': 'CVCL_E548', 'sinonimos': ['Z48-5MG-70', 'Z48-5MG-63', '15310-LN', 'TER461', 'TER-461', 'Ter 461', 'TER479', 'TER-479', 'Ter 479', 'Extract 519']}\n"
     ]
    }
   ],
   "source": [
    "import xml.etree.ElementTree as ET\n",
    "\n",
    "#Cellosaurus\n",
    "tree = ET.parse('cell.xml')\n",
    "root = tree.getroot()\n",
    "\n",
    "\n",
    "list_syn = []\n",
    "for i in root.find('cell-line-list'):\n",
    "    for j in i.find('accession-list'):\n",
    "        print(j.text)\n",
    "        \n",
    "    for k in i.find('name-list'):\n",
    "        if k.get('type') == \"synonym\":\n",
    "            list_syn.append(k.text)\n",
    "            \n",
    "    print({'accession': j.text,'sinonimos': list_syn})\n",
    "    "
   ]
  },
  {
   "cell_type": "code",
   "execution_count": null,
   "id": "3e94d078-67fd-412b-92cb-d030517315cb",
   "metadata": {},
   "outputs": [],
   "source": []
  }
 ],
 "metadata": {
  "kernelspec": {
   "display_name": "Python 3 (ipykernel)",
   "language": "python",
   "name": "python3"
  },
  "language_info": {
   "codemirror_mode": {
    "name": "ipython",
    "version": 3
   },
   "file_extension": ".py",
   "mimetype": "text/x-python",
   "name": "python",
   "nbconvert_exporter": "python",
   "pygments_lexer": "ipython3",
   "version": "3.9.13"
  }
 },
 "nbformat": 4,
 "nbformat_minor": 5
}
