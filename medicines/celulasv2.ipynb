{
 "cells": [
  {
   "cell_type": "code",
   "execution_count": 35,
   "id": "5d3076b9",
   "metadata": {},
   "outputs": [],
   "source": [
    "import xml.etree.ElementTree as ET\n",
    "import pandas as pd"
   ]
  },
  {
   "cell_type": "code",
   "execution_count": 36,
   "id": "6236595d",
   "metadata": {},
   "outputs": [],
   "source": [
    "#Cellosaurus\n",
    "tree = ET.parse('cell.xml')\n",
    "root = tree.getroot()"
   ]
  },
  {
   "cell_type": "code",
   "execution_count": 58,
   "id": "35cce8a5",
   "metadata": {},
   "outputs": [
    {
     "name": "stdout",
     "output_type": "stream",
     "text": [
      "Descripción [{'linea_celular': 'CVCL_B0T9', 'sinonimos': ['Z48-5MG-70']}]\n",
      "Descripción [{'linea_celular': 'CVCL_B0T8', 'sinonimos': ['Z48-5MG-63']}]\n",
      "Descripción [{'linea_celular': 'CVCL_E548', 'sinonimos': ['15310-LN', 'TER461', 'TER-461', 'Ter 461', 'TER479', 'TER-479', 'Ter 479', 'Extract 519']}]\n"
     ]
    }
   ],
   "source": [
    "import pandas as pd\n",
    "# recorro el arbol para linea celular de xml paso por cell - line, depués a accession-list, y luego obtengo el texto del recorrido del accession.\n",
    "list_cell =[]\n",
    "list_syn = []\n",
    "\n",
    "diccionario = {\n",
    "    'linea_celular' : '',\n",
    "    'sinonimos' : []\n",
    "}\n",
    "\n",
    "#meta\n",
    "# [{'linea celuar': 1, 'sinonimos': []}, {'linea celuar': 1, 'sinonimos': []}, {'linea celuar': 1, 'sinonimos': []}]\n",
    "\n",
    "for i in root.find('cell-line-list'):\n",
    "    for j in i.find('accession-list'):\n",
    "        diccionario['linea_celular'] = j.text\n",
    "        for k in i.find('name-list'):\n",
    "            if k.get('type') == \"synonym\":\n",
    "                list_syn.append(k.text)\n",
    "        diccionario['sinonimos'] = list_syn\n",
    "        list_syn = []\n",
    "       # print(\"diccionario\", diccionario)\n",
    "        list_cell.append(diccionario)\n",
    "        print(\"Descripción\", list_cell)\n",
    "        list_cell=[]\n",
    "        \n",
    "\n",
    "\n"
   ]
  },
  {
   "cell_type": "code",
   "execution_count": 55,
   "id": "de7abc42",
   "metadata": {},
   "outputs": [
    {
     "ename": "SyntaxError",
     "evalue": "invalid syntax (32286729.py, line 1)",
     "output_type": "error",
     "traceback": [
      "\u001b[1;36m  File \u001b[1;32m\"C:\\Users\\henry\\AppData\\Local\\Temp\\ipykernel_12616\\32286729.py\"\u001b[1;36m, line \u001b[1;32m1\u001b[0m\n\u001b[1;33m    for x in list_syn []:\u001b[0m\n\u001b[1;37m                       ^\u001b[0m\n\u001b[1;31mSyntaxError\u001b[0m\u001b[1;31m:\u001b[0m invalid syntax\n"
     ]
    }
   ],
   "source": []
  },
  {
   "cell_type": "code",
   "execution_count": null,
   "id": "c1dce824-891e-405f-bf0a-33ca48523e34",
   "metadata": {},
   "outputs": [],
   "source": []
  },
  {
   "cell_type": "code",
   "execution_count": null,
   "id": "78566b59-d85e-4c7a-a719-c94b0fe59b83",
   "metadata": {},
   "outputs": [],
   "source": []
  }
 ],
 "metadata": {
  "kernelspec": {
   "display_name": "Python 3 (ipykernel)",
   "language": "python",
   "name": "python3"
  },
  "language_info": {
   "codemirror_mode": {
    "name": "ipython",
    "version": 3
   },
   "file_extension": ".py",
   "mimetype": "text/x-python",
   "name": "python",
   "nbconvert_exporter": "python",
   "pygments_lexer": "ipython3",
   "version": "3.9.13"
  }
 },
 "nbformat": 4,
 "nbformat_minor": 5
}
